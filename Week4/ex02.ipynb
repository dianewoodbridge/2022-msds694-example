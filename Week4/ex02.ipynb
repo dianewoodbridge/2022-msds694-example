{
 "cells": [
  {
   "cell_type": "code",
   "execution_count": 1,
   "id": "8c70044b-2120-4b85-a10a-e8eba87bf9c1",
   "metadata": {
    "jupyter": {
     "source_hidden": true
    },
    "tags": []
   },
   "outputs": [
    {
     "data": {
      "text/html": [
       "\n",
       "        <iframe\n",
       "            width=\"300\"\n",
       "            height=\"200\"\n",
       "            src=\"../Slides/2022_DistributedComputing_Week4.pdf\"\n",
       "            frameborder=\"0\"\n",
       "            allowfullscreen\n",
       "            \n",
       "        ></iframe>\n",
       "        "
      ],
      "text/plain": [
       "<IPython.lib.display.IFrame at 0x7fb7b9f03d00>"
      ]
     },
     "execution_count": 1,
     "metadata": {},
     "output_type": "execute_result"
    }
   ],
   "source": [
    "from IPython.display import IFrame, display\n",
    "filepath = \"../Slides/2022_DistributedComputing_Week4.pdf\"\n",
    "IFrame(src=filepath, width=300, height=200,)"
   ]
  },
  {
   "cell_type": "code",
   "execution_count": 2,
   "id": "7339c626",
   "metadata": {},
   "outputs": [
    {
     "name": "stderr",
     "output_type": "stream",
     "text": [
      "Setting default log level to \"WARN\".\n",
      "To adjust logging level use sc.setLogLevel(newLevel). For SparkR, use setLogLevel(newLevel).\n"
     ]
    },
    {
     "name": "stdout",
     "output_type": "stream",
     "text": [
      "22/11/11 08:20:16 WARN NativeCodeLoader: Unable to load native-hadoop library for your platform... using builtin-java classes where applicable\n"
     ]
    }
   ],
   "source": [
    "from pyspark import SparkContext\n",
    "import pyspark\n",
    "\n",
    "conf = pyspark.SparkConf().set(\"spark.driver.host\", \"localhost\")\n",
    "sc = SparkContext.getOrCreate()\n",
    "sc.setLogLevel('OFF')"
   ]
  },
  {
   "cell_type": "code",
   "execution_count": 3,
   "id": "3d8a8740",
   "metadata": {},
   "outputs": [],
   "source": [
    "supervisor_sf_pair = sc.textFile(\"../data/SF_business/supervisor_sf.tsv\")\\\n",
    "                       .map(lambda x : x.split(\"\\t\"))\\\n",
    "                       .map(lambda x : (x[0], x[1]))"
   ]
  },
  {
   "cell_type": "code",
   "execution_count": 4,
   "id": "13ae62c2",
   "metadata": {},
   "outputs": [],
   "source": [
    "zip_biz_pair = sc.textFile(\"../data/SF_business/filtered_registered_business_sf.tsv\")\\\n",
    "                 .map(lambda x : x.split(\"\\t\"))\\\n",
    "                 .map(lambda x : (x[0], x[1:]))"
   ]
  },
  {
   "cell_type": "markdown",
   "id": "7d3ba8ac",
   "metadata": {},
   "source": [
    "## 1. Return any five distinct  zip code in zip_biz_pair"
   ]
  },
  {
   "cell_type": "code",
   "execution_count": 5,
   "id": "382b27ec",
   "metadata": {},
   "outputs": [
    {
     "name": "stderr",
     "output_type": "stream",
     "text": [
      "                                                                                \r"
     ]
    },
    {
     "data": {
      "text/plain": [
       "['94124', '94108', '94102', '94133', '94111']"
      ]
     },
     "execution_count": 5,
     "metadata": {},
     "output_type": "execute_result"
    }
   ],
   "source": [
    "zip_biz_pair.keys().distinct().take(5)"
   ]
  },
  {
   "cell_type": "markdown",
   "id": "6240874e",
   "metadata": {},
   "source": [
    "## 2. Return any five distinct city names."
   ]
  },
  {
   "cell_type": "code",
   "execution_count": 6,
   "id": "8523f5fb",
   "metadata": {},
   "outputs": [
    {
     "data": {
      "text/plain": [
       "['San Francisco', 'Hayward', 'Redwood+city', 'Daly+city', 'Mexico']"
      ]
     },
     "execution_count": 6,
     "metadata": {},
     "output_type": "execute_result"
    }
   ],
   "source": [
    "zip_biz_pair.values().map(lambda x : x[-2]).distinct().take(5)"
   ]
  },
  {
   "cell_type": "markdown",
   "id": "de547c1c",
   "metadata": {},
   "source": [
    "## 3. Return five distinct (zip code, city name) pairs ordered by zip code, where zip code has 5 digits."
   ]
  },
  {
   "cell_type": "code",
   "execution_count": 7,
   "id": "259be47a",
   "metadata": {},
   "outputs": [],
   "source": [
    "distinct_zip_city_pairs = zip_biz_pair.filter(lambda x : len(x[0]) == 5)\\\n",
    "                                      .mapValues(lambda x : x[-2])\\\n",
    "                                      .distinct()\\\n",
    "                                      .sortByKey()"
   ]
  },
  {
   "cell_type": "code",
   "execution_count": 8,
   "id": "f25c474c",
   "metadata": {},
   "outputs": [
    {
     "data": {
      "text/plain": [
       "[('10001', 'New+york'),\n",
       " ('10002', 'New+york'),\n",
       " ('10003', 'New+york'),\n",
       " ('10004', 'New+york'),\n",
       " ('10004', 'New York')]"
      ]
     },
     "execution_count": 8,
     "metadata": {},
     "output_type": "execute_result"
    }
   ],
   "source": [
    "distinct_zip_city_pairs.take(5)"
   ]
  },
  {
   "cell_type": "markdown",
   "id": "28007060",
   "metadata": {},
   "source": [
    "## 4. Find the zip associated with the most city names\n",
    "* which one is more efficient ??\n",
    "    - zip_associated_with_multiple_cities_1  $vs$ zip_associated_with_multiple_cities_2"
   ]
  },
  {
   "cell_type": "markdown",
   "id": "82916a43",
   "metadata": {},
   "source": [
    "#### v1"
   ]
  },
  {
   "cell_type": "code",
   "execution_count": 9,
   "id": "b7fa552c",
   "metadata": {},
   "outputs": [],
   "source": [
    "zip_associated_with_multiple_cities_1 = distinct_zip_city_pairs.map(lambda x : (x[0], 1))\\\n",
    "                                           .groupByKey()\\\n",
    "                                           .mapValues(lambda x : sum(x))\\\n",
    "                                           "
   ]
  },
  {
   "cell_type": "code",
   "execution_count": 10,
   "id": "4abd3414",
   "metadata": {},
   "outputs": [
    {
     "data": {
      "text/plain": [
       "[('94080', 40)]"
      ]
     },
     "execution_count": 10,
     "metadata": {},
     "output_type": "execute_result"
    }
   ],
   "source": [
    "zip_associated_with_multiple_cities_1.sortBy(lambda x : x[1], ascending = False).take(1)"
   ]
  },
  {
   "cell_type": "markdown",
   "id": "56a6575d",
   "metadata": {},
   "source": [
    "#### v2"
   ]
  },
  {
   "cell_type": "code",
   "execution_count": 11,
   "id": "c2d4ec75",
   "metadata": {},
   "outputs": [],
   "source": [
    "zip_associated_with_multiple_cities_2 = distinct_zip_city_pairs.map(lambda x : (x[0], 1))\\\n",
    "                                           .reduceByKey(lambda x, y : x + y)\\\n",
    "                                           "
   ]
  },
  {
   "cell_type": "code",
   "execution_count": 12,
   "id": "a9e28ea6",
   "metadata": {},
   "outputs": [
    {
     "data": {
      "text/plain": [
       "[('94080', 40)]"
      ]
     },
     "execution_count": 12,
     "metadata": {},
     "output_type": "execute_result"
    }
   ],
   "source": [
    "zip_associated_with_multiple_cities_2.sortBy(lambda x : x[1], ascending = False).take(1)"
   ]
  },
  {
   "cell_type": "markdown",
   "id": "035993e3",
   "metadata": {},
   "source": [
    "### Which one is more efficient? v1 or v2??"
   ]
  },
  {
   "cell_type": "markdown",
   "id": "fb4275ea",
   "metadata": {},
   "source": [
    "#### "
   ]
  },
  {
   "cell_type": "markdown",
   "id": "db5684b1",
   "metadata": {},
   "source": [
    "## 5. Create zip_city_count_names which includes (zip, (count, the list of names))"
   ]
  },
  {
   "cell_type": "code",
   "execution_count": 13,
   "id": "25595c28",
   "metadata": {},
   "outputs": [],
   "source": [
    "zip_city_count_names = distinct_zip_city_pairs.mapValues(lambda x: [x])\\\n",
    "    .reduceByKey(lambda x, y: x + y)\\\n",
    "    .map(lambda x: (x[0], (len(list(x[1])), sorted(list(x[1])))))\\\n",
    "    .sortBy(lambda x: x[1][0], ascending=False)"
   ]
  },
  {
   "cell_type": "code",
   "execution_count": 14,
   "id": "994b4171",
   "metadata": {},
   "outputs": [
    {
     "data": {
      "text/plain": [
       "[('94080',\n",
       "  (40,\n",
       "   ['Daly City',\n",
       "    'S San Fran',\n",
       "    'S San Francisco',\n",
       "    'S+san+fran',\n",
       "    'S+san+francisco',\n",
       "    'S. San Francisco',\n",
       "    'S.+san+francisco',\n",
       "    'San Francisco',\n",
       "    'San+bruno',\n",
       "    'San+carlos',\n",
       "    'San+francisco',\n",
       "    'So San Francisco',\n",
       "    'So+.+san+francisco',\n",
       "    'So+san+francisco',\n",
       "    'So.+san+francisco',\n",
       "    'So.san+francisco',\n",
       "    'Soith+san+francisco',\n",
       "    'Souht+san+francisco',\n",
       "    'Sout+san+francisco',\n",
       "    'South San Francisco',\n",
       "    'South San Fransico',\n",
       "    'South Sanfrancisco',\n",
       "    'South++san+francisco',\n",
       "    'South+san+fracisco',\n",
       "    'South+san+fran',\n",
       "    'South+san+franc',\n",
       "    'South+san+francisc',\n",
       "    'South+san+francisco',\n",
       "    'South+san+francisico',\n",
       "    'South+san+francsico',\n",
       "    'South+san+franisco',\n",
       "    'South+san+franscisco',\n",
       "    'South+san+fransisco',\n",
       "    'South+san.francisco',\n",
       "    'South+sanfrancisco',\n",
       "    'South+sanfranciso',\n",
       "    'South+sanfransico',\n",
       "    'South+sf',\n",
       "    'Ssf',\n",
       "    'Suth+san+francisco']))]"
      ]
     },
     "execution_count": 14,
     "metadata": {},
     "output_type": "execute_result"
    }
   ],
   "source": [
    "zip_city_count_names.take(1)"
   ]
  },
  {
   "cell_type": "code",
   "execution_count": 16,
   "id": "c81f085a",
   "metadata": {},
   "outputs": [],
   "source": [
    "sc.stop()"
   ]
  },
  {
   "cell_type": "code",
   "execution_count": null,
   "id": "49a2fc45",
   "metadata": {},
   "outputs": [],
   "source": []
  }
 ],
 "metadata": {
  "kernelspec": {
   "display_name": "Python 3 (ipykernel)",
   "language": "python",
   "name": "python3"
  },
  "language_info": {
   "codemirror_mode": {
    "name": "ipython",
    "version": 3
   },
   "file_extension": ".py",
   "mimetype": "text/x-python",
   "name": "python",
   "nbconvert_exporter": "python",
   "pygments_lexer": "ipython3",
   "version": "3.10.6"
  },
  "varInspector": {
   "cols": {
    "lenName": 16,
    "lenType": 16,
    "lenVar": 40
   },
   "kernels_config": {
    "python": {
     "delete_cmd_postfix": "",
     "delete_cmd_prefix": "del ",
     "library": "var_list.py",
     "varRefreshCmd": "print(var_dic_list())"
    },
    "r": {
     "delete_cmd_postfix": ") ",
     "delete_cmd_prefix": "rm(",
     "library": "var_list.r",
     "varRefreshCmd": "cat(var_dic_list()) "
    }
   },
   "types_to_exclude": [
    "module",
    "function",
    "builtin_function_or_method",
    "instance",
    "_Feature"
   ],
   "window_display": false
  }
 },
 "nbformat": 4,
 "nbformat_minor": 5
}
