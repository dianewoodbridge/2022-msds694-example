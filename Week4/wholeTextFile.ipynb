{
 "cells": [
  {
   "cell_type": "code",
   "execution_count": 1,
   "id": "7362dd3e-d829-4eb2-9e0d-f775b6e8bc3f",
   "metadata": {
    "jupyter": {
     "source_hidden": true
    },
    "tags": []
   },
   "outputs": [
    {
     "data": {
      "text/html": [
       "\n",
       "        <iframe\n",
       "            width=\"300\"\n",
       "            height=\"200\"\n",
       "            src=\"../Slides/2022_DistributedComputing_Week4.pdf\"\n",
       "            frameborder=\"0\"\n",
       "            allowfullscreen\n",
       "            \n",
       "        ></iframe>\n",
       "        "
      ],
      "text/plain": [
       "<IPython.lib.display.IFrame at 0x7f8ac1cd3fa0>"
      ]
     },
     "execution_count": 1,
     "metadata": {},
     "output_type": "execute_result"
    }
   ],
   "source": [
    "from IPython.display import IFrame, display\n",
    "filepath = \"../Slides/2022_DistributedComputing_Week4.pdf\"\n",
    "IFrame(src=filepath, width=300, height=200,)"
   ]
  },
  {
   "cell_type": "code",
   "execution_count": null,
   "id": "6e50b084-4f30-4820-aa0f-bf9d0d7d013e",
   "metadata": {},
   "outputs": [],
   "source": [
    "import pyspark\n",
    "sc = pyspark.SparkContext()"
   ]
  },
  {
   "cell_type": "markdown",
   "id": "cb428f3c-1ddb-4db4-9d7f-97b494aa0c5a",
   "metadata": {},
   "source": [
    "## wholeTextFiles() \n",
    "creates a (key, value) format where the key is a file name and the value is the content of the file."
   ]
  },
  {
   "cell_type": "code",
   "execution_count": null,
   "id": "75de89cf-5801-4926-8068-777a52a6c2fe",
   "metadata": {},
   "outputs": [],
   "source": [
    "countries = sc.wholeTextFiles(\"../data/Countries/\")"
   ]
  },
  {
   "cell_type": "code",
   "execution_count": null,
   "id": "2c035369-85d9-473f-b930-d181bc58c681",
   "metadata": {},
   "outputs": [],
   "source": [
    "countries.collect()"
   ]
  },
  {
   "cell_type": "markdown",
   "id": "9acc16b1-a590-40be-8fcd-1c588d50e590",
   "metadata": {},
   "source": [
    "## .map() vs .flatMap()\n",
    "Since the value of (key, value) created from wholeTextFile() are not seperated by a new line (\\n), we need to .split(). \n",
    "However, using .map() returns an array where its inner array is the lines from each file.\n",
    "\n",
    "In this case, <a href=\"https://spark.apache.org/docs/latest/api/python/reference/api/pyspark.RDD.flatMap.html\"> flatMap()</a> would be useful. .flatMap(func) is a trasnformation and applies func to elements in RDD like .map() does, and flattens the result.\n"
   ]
  },
  {
   "cell_type": "code",
   "execution_count": null,
   "id": "229f9132-896d-4282-b598-f2b6517d256d",
   "metadata": {},
   "outputs": [],
   "source": [
    "split_by_map = countries.values()\\\n",
    "                        .map(lambda x : x.split(\"\\n\"))\n",
    "split_by_map.collect()"
   ]
  },
  {
   "cell_type": "code",
   "execution_count": null,
   "id": "6d86d351-513b-492f-b17f-09f4dd4cc68f",
   "metadata": {},
   "outputs": [],
   "source": [
    "split_by_map.count()"
   ]
  },
  {
   "cell_type": "code",
   "execution_count": null,
   "id": "497ed6ab-48a6-417b-a85d-cd935b0107e5",
   "metadata": {},
   "outputs": [],
   "source": [
    "split_by_flatmap = countries.values()\\\n",
    "                            .flatMap(lambda x : x.split(\"\\n\"))\n",
    "split_by_flatmap.collect()\n"
   ]
  },
  {
   "cell_type": "code",
   "execution_count": null,
   "id": "516e6bff-84e0-44b8-a006-0e9c2efcadb4",
   "metadata": {},
   "outputs": [],
   "source": [
    "split_by_flatmap.count()"
   ]
  },
  {
   "cell_type": "code",
   "execution_count": null,
   "id": "87519c82-87ef-451e-9bd9-a7ebf28425a3",
   "metadata": {},
   "outputs": [],
   "source": [
    "sc.stop()"
   ]
  },
  {
   "cell_type": "code",
   "execution_count": null,
   "id": "ea177400-29d9-4557-bd87-49fd0d9653d8",
   "metadata": {},
   "outputs": [],
   "source": []
  }
 ],
 "metadata": {
  "kernelspec": {
   "display_name": "Python 3 (ipykernel)",
   "language": "python",
   "name": "python3"
  },
  "language_info": {
   "codemirror_mode": {
    "name": "ipython",
    "version": 3
   },
   "file_extension": ".py",
   "mimetype": "text/x-python",
   "name": "python",
   "nbconvert_exporter": "python",
   "pygments_lexer": "ipython3",
   "version": "3.10.6"
  }
 },
 "nbformat": 4,
 "nbformat_minor": 5
}
