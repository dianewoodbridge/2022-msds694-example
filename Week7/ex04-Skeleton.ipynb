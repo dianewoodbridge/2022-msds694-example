{
 "cells": [
  {
   "cell_type": "code",
   "execution_count": 1,
   "id": "8909aa4a-da95-4eee-9f22-eb12bf68efb4",
   "metadata": {},
   "outputs": [
    {
     "data": {
      "text/html": [
       "\n",
       "        <iframe\n",
       "            width=\"300\"\n",
       "            height=\"200\"\n",
       "            src=\"../Slides/2022_DistributedComputing_Week7.pdf\"\n",
       "            frameborder=\"0\"\n",
       "            allowfullscreen\n",
       "            \n",
       "        ></iframe>\n",
       "        "
      ],
      "text/plain": [
       "<IPython.lib.display.IFrame at 0x7f7809a6a590>"
      ]
     },
     "execution_count": 1,
     "metadata": {},
     "output_type": "execute_result"
    }
   ],
   "source": [
    "from IPython.display import IFrame, display\n",
    "filepath = \"../Slides/2022_DistributedComputing_Week7.pdf\"\n",
    "IFrame(src=filepath, width=300, height=200,)"
   ]
  },
  {
   "cell_type": "code",
   "execution_count": null,
   "id": "3326efbc-f876-471c-a01a-391a35b2be6a",
   "metadata": {},
   "outputs": [],
   "source": [
    "from pyspark import SparkContext\n",
    "\n",
    "sc = SparkContext.getOrCreate()"
   ]
  },
  {
   "cell_type": "code",
   "execution_count": null,
   "id": "fb777da5-5c1f-4637-813d-ef6fbb3dcbc5",
   "metadata": {},
   "outputs": [],
   "source": [
    "sc"
   ]
  },
  {
   "cell_type": "markdown",
   "id": "15e33c20-9d73-441e-ae97-4373d9aae04c",
   "metadata": {},
   "source": [
    "# Use Spark UI to see the stages/tasks"
   ]
  },
  {
   "cell_type": "code",
   "execution_count": null,
   "id": "8a1620be-6786-4f25-b76c-53f6fe04db1e",
   "metadata": {},
   "outputs": [],
   "source": [
    "nums = sc.parallelize([1, 1, 3, 3, 11, 13, 14], 6)\n",
    "mapped_nums = nums.map(lambda x: (x, x - 1))\n",
    "filtered_nums = mapped_nums.filter(lambda x: x[1] > 0)\n",
    "reduced_nums = filtered_nums.reduceByKey(lambda x, y: x + y)\n",
    "values = reduced_nums.values()\n",
    "values.collect()"
   ]
  },
  {
   "cell_type": "markdown",
   "id": "52900a2c-d891-4775-a94e-aadaf3509b2d",
   "metadata": {},
   "source": [
    "## See the debug string for depency and data shuffling"
   ]
  },
  {
   "cell_type": "code",
   "execution_count": null,
   "id": "b9bbf2a0-1846-42ee-80f6-acc591c20220",
   "metadata": {},
   "outputs": [],
   "source": [
    "values."
   ]
  },
  {
   "cell_type": "code",
   "execution_count": null,
   "id": "5044445d-6dc3-43f2-ab73-1afd3b64e225",
   "metadata": {},
   "outputs": [],
   "source": [
    "sc.stop()"
   ]
  },
  {
   "cell_type": "code",
   "execution_count": null,
   "id": "f6d1a4dc-5508-4319-b39e-be5b132518eb",
   "metadata": {},
   "outputs": [],
   "source": []
  }
 ],
 "metadata": {
  "kernelspec": {
   "display_name": "Python 3 (ipykernel)",
   "language": "python",
   "name": "python3"
  },
  "language_info": {
   "codemirror_mode": {
    "name": "ipython",
    "version": 3
   },
   "file_extension": ".py",
   "mimetype": "text/x-python",
   "name": "python",
   "nbconvert_exporter": "python",
   "pygments_lexer": "ipython3",
   "version": "3.10.6"
  }
 },
 "nbformat": 4,
 "nbformat_minor": 5
}
