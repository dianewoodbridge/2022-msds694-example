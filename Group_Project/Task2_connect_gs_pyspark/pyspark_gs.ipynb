{
 "cells": [
  {
   "cell_type": "code",
   "execution_count": 1,
   "id": "e72cf088-a51d-4f14-9bab-bc1a7e76a5ef",
   "metadata": {},
   "outputs": [],
   "source": [
    "import os\n",
    "import pyspark"
   ]
  },
  {
   "cell_type": "code",
   "execution_count": 2,
   "id": "ef53589f-6dd8-4f66-a08b-20fe928abb95",
   "metadata": {},
   "outputs": [],
   "source": [
    "jar_path = \"./gcs-connector-hadoop2-latest.jar\""
   ]
  },
  {
   "cell_type": "code",
   "execution_count": 3,
   "id": "9e065e2d-6ec6-4819-bee9-1667609c01e3",
   "metadata": {},
   "outputs": [],
   "source": [
    "conf = pyspark.SparkConf().set(\"spark.jars\", jar_path)"
   ]
  },
  {
   "cell_type": "code",
   "execution_count": 4,
   "id": "71183910-382d-4dd9-ab03-c48895223127",
   "metadata": {},
   "outputs": [
    {
     "name": "stdout",
     "output_type": "stream",
     "text": [
      "22/11/10 20:10:09 WARN NativeCodeLoader: Unable to load native-hadoop library for your platform... using builtin-java classes where applicable\n"
     ]
    },
    {
     "name": "stderr",
     "output_type": "stream",
     "text": [
      "Setting default log level to \"WARN\".\n",
      "To adjust logging level use sc.setLogLevel(newLevel). For SparkR, use setLogLevel(newLevel).\n"
     ]
    },
    {
     "name": "stdout",
     "output_type": "stream",
     "text": [
      "22/11/10 20:10:11 WARN Utils: Service 'SparkUI' could not bind on port 4040. Attempting port 4041.\n",
      "22/11/10 20:10:11 WARN Utils: Service 'SparkUI' could not bind on port 4041. Attempting port 4042.\n",
      "22/11/10 20:10:11 WARN Utils: Service 'SparkUI' could not bind on port 4042. Attempting port 4043.\n"
     ]
    }
   ],
   "source": [
    "sc = pyspark.SparkContext(conf=conf).getOrCreate()"
   ]
  },
  {
   "cell_type": "code",
   "execution_count": 5,
   "id": "af812c70-3be3-4f59-8955-ac36a6856c6c",
   "metadata": {},
   "outputs": [
    {
     "data": {
      "text/html": [
       "\n",
       "        <div>\n",
       "            <p><b>SparkContext</b></p>\n",
       "\n",
       "            <p><a href=\"http://192.168.0.234:4043\">Spark UI</a></p>\n",
       "\n",
       "            <dl>\n",
       "              <dt>Version</dt>\n",
       "                <dd><code>v3.3.0</code></dd>\n",
       "              <dt>Master</dt>\n",
       "                <dd><code>local[*]</code></dd>\n",
       "              <dt>AppName</dt>\n",
       "                <dd><code>pyspark-shell</code></dd>\n",
       "            </dl>\n",
       "        </div>\n",
       "        "
      ],
      "text/plain": [
       "<SparkContext master=local[*] appName=pyspark-shell>"
      ]
     },
     "execution_count": 5,
     "metadata": {},
     "output_type": "execute_result"
    }
   ],
   "source": [
    "sc"
   ]
  },
  {
   "cell_type": "code",
   "execution_count": 6,
   "id": "4ea0ba51-5340-48c3-b679-73a8b4232c15",
   "metadata": {},
   "outputs": [],
   "source": [
    "conf = sc._jsc.hadoopConfiguration()"
   ]
  },
  {
   "cell_type": "code",
   "execution_count": 7,
   "id": "08803796-a24c-4580-a8e7-c904b9548e8b",
   "metadata": {},
   "outputs": [],
   "source": [
    "conf.set(\n",
    "    \"fs.gs.impl\", \n",
    "    \"com.google.cloud.hadoop.fs.gcs.GoogleHadoopFileSystem\")"
   ]
  },
  {
   "cell_type": "code",
   "execution_count": 8,
   "id": "3a5b90c6-abde-437e-9f3b-718420ebc68a",
   "metadata": {},
   "outputs": [],
   "source": [
    "conf.set(\n",
    "    \"google.cloud.auth.service.account.json.keyfile\",\n",
    "    \"./msds694-80f0f6f90e71.json\",\n",
    ")"
   ]
  },
  {
   "cell_type": "code",
   "execution_count": 9,
   "id": "bb9049a2-cfc9-4410-85de-9a3cb47cbd76",
   "metadata": {},
   "outputs": [],
   "source": [
    "file = sc.textFile(\n",
    "    \"gs://msds694-project/*\"\n",
    ")"
   ]
  },
  {
   "cell_type": "code",
   "execution_count": 10,
   "id": "f346f5b2-d345-41ce-b2de-3e73b240acc2",
   "metadata": {},
   "outputs": [
    {
     "name": "stderr",
     "output_type": "stream",
     "text": [
      "                                                                                \r"
     ]
    },
    {
     "data": {
      "text/plain": [
       "998456"
      ]
     },
     "execution_count": 10,
     "metadata": {},
     "output_type": "execute_result"
    }
   ],
   "source": [
    "file.count()"
   ]
  },
  {
   "cell_type": "code",
   "execution_count": null,
   "id": "ea15fb0e-4ba9-4c57-8dd8-6453ee8d2650",
   "metadata": {},
   "outputs": [],
   "source": []
  },
  {
   "cell_type": "code",
   "execution_count": 11,
   "id": "f07a44c4-5f91-4fe1-b5f3-0510ae6f10f0",
   "metadata": {},
   "outputs": [],
   "source": [
    "sc.stop()"
   ]
  },
  {
   "cell_type": "code",
   "execution_count": null,
   "id": "bc7da0a9-3406-44c6-93b6-9ba4bd39527c",
   "metadata": {},
   "outputs": [],
   "source": []
  }
 ],
 "metadata": {
  "kernelspec": {
   "display_name": "Python 3 (ipykernel)",
   "language": "python",
   "name": "python3"
  },
  "language_info": {
   "codemirror_mode": {
    "name": "ipython",
    "version": 3
   },
   "file_extension": ".py",
   "mimetype": "text/x-python",
   "name": "python",
   "nbconvert_exporter": "python",
   "pygments_lexer": "ipython3",
   "version": "3.10.6"
  }
 },
 "nbformat": 4,
 "nbformat_minor": 5
}
